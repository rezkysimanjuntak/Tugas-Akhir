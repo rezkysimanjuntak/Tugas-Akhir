{
 "cells": [
  {
   "cell_type": "code",
   "execution_count": 1,
   "metadata": {},
   "outputs": [],
   "source": [
    "import re\n",
    "import nltk\n",
    "from nltk.corpus import stopwords\n",
    "from nltk.tag import CRFTagger"
   ]
  },
  {
   "cell_type": "code",
   "execution_count": 2,
   "metadata": {},
   "outputs": [],
   "source": [
    "data = open('teks.txt', encoding=\"utf8\")\n",
    "\n",
    "teks = data.read()"
   ]
  },
  {
   "cell_type": "code",
   "execution_count": 3,
   "metadata": {},
   "outputs": [
    {
     "name": "stdout",
     "output_type": "stream",
     "text": [
      "Seorang mahasiswa boleh meminjam beberapa buku. Satu buku boleh dipinjam beberapa mahasiswa. Semua mahasiswa sangat perlu buku sehingga tidak ada yang tidak pernah meminjam ke perpustakaan. Ada buku yang sangat laris dipinjam mahasiswa, namun ada pula buku yang tidak pernah dipinjam sama sekali. Satu buku dapat memiliki beberapa copy, namun untuk copy yang sama memiliki satu nomor buku. Setiap peminjamannya, Semua mahasiswa disiplin mengembalikan buku tepat satu minggu setelah peminjaman.\n"
     ]
    }
   ],
   "source": [
    "print(teks)"
   ]
  },
  {
   "cell_type": "markdown",
   "metadata": {},
   "source": [
    "### Text Preprocessing"
   ]
  },
  {
   "cell_type": "markdown",
   "metadata": {},
   "source": [
    "#### Case Folding"
   ]
  },
  {
   "cell_type": "code",
   "execution_count": 4,
   "metadata": {},
   "outputs": [],
   "source": [
    "case_folding = teks.casefold()"
   ]
  },
  {
   "cell_type": "code",
   "execution_count": 5,
   "metadata": {},
   "outputs": [
    {
     "name": "stdout",
     "output_type": "stream",
     "text": [
      "seorang mahasiswa boleh meminjam beberapa buku. satu buku boleh dipinjam beberapa mahasiswa. semua mahasiswa sangat perlu buku sehingga tidak ada yang tidak pernah meminjam ke perpustakaan. ada buku yang sangat laris dipinjam mahasiswa, namun ada pula buku yang tidak pernah dipinjam sama sekali. satu buku dapat memiliki beberapa copy, namun untuk copy yang sama memiliki satu nomor buku. setiap peminjamannya, semua mahasiswa disiplin mengembalikan buku tepat satu minggu setelah peminjaman.\n"
     ]
    }
   ],
   "source": [
    "print(case_folding)"
   ]
  },
  {
   "cell_type": "markdown",
   "metadata": {},
   "source": [
    "#### Sentence Segmentation"
   ]
  },
  {
   "cell_type": "code",
   "execution_count": 6,
   "metadata": {},
   "outputs": [],
   "source": [
    "segmentation = []\n",
    "segmentation.extend(re.split('[!?.]', case_folding))\n",
    "\n",
    "# Clear null values in the array\n",
    "segmentation = [item for item in segmentation if item]"
   ]
  },
  {
   "cell_type": "code",
   "execution_count": 7,
   "metadata": {},
   "outputs": [
    {
     "name": "stdout",
     "output_type": "stream",
     "text": [
      "['seorang mahasiswa boleh meminjam beberapa buku', ' satu buku boleh dipinjam beberapa mahasiswa', ' semua mahasiswa sangat perlu buku sehingga tidak ada yang tidak pernah meminjam ke perpustakaan', ' ada buku yang sangat laris dipinjam mahasiswa, namun ada pula buku yang tidak pernah dipinjam sama sekali', ' satu buku dapat memiliki beberapa copy, namun untuk copy yang sama memiliki satu nomor buku', ' setiap peminjamannya, semua mahasiswa disiplin mengembalikan buku tepat satu minggu setelah peminjaman']\n"
     ]
    }
   ],
   "source": [
    "print(segmentation)"
   ]
  },
  {
   "cell_type": "markdown",
   "metadata": {},
   "source": [
    "#### Tokenization"
   ]
  },
  {
   "cell_type": "code",
   "execution_count": 8,
   "metadata": {},
   "outputs": [],
   "source": [
    "tokenization = []\n",
    "\n",
    "for line in range(len(segmentation)):\n",
    "    tokenization.append(nltk.word_tokenize(segmentation[line]))\n",
    "    if \",\" in tokenization[line]:\n",
    "            tokenization[line].remove(\",\")"
   ]
  },
  {
   "cell_type": "code",
   "execution_count": 9,
   "metadata": {},
   "outputs": [
    {
     "name": "stdout",
     "output_type": "stream",
     "text": [
      "Kalimat 1 : ['seorang', 'mahasiswa', 'boleh', 'meminjam', 'beberapa', 'buku']\n",
      "Kalimat 2 : ['satu', 'buku', 'boleh', 'dipinjam', 'beberapa', 'mahasiswa']\n",
      "Kalimat 3 : ['semua', 'mahasiswa', 'sangat', 'perlu', 'buku', 'sehingga', 'tidak', 'ada', 'yang', 'tidak', 'pernah', 'meminjam', 'ke', 'perpustakaan']\n",
      "Kalimat 4 : ['ada', 'buku', 'yang', 'sangat', 'laris', 'dipinjam', 'mahasiswa', 'namun', 'ada', 'pula', 'buku', 'yang', 'tidak', 'pernah', 'dipinjam', 'sama', 'sekali']\n",
      "Kalimat 5 : ['satu', 'buku', 'dapat', 'memiliki', 'beberapa', 'copy', 'namun', 'untuk', 'copy', 'yang', 'sama', 'memiliki', 'satu', 'nomor', 'buku']\n",
      "Kalimat 6 : ['setiap', 'peminjamannya', 'semua', 'mahasiswa', 'disiplin', 'mengembalikan', 'buku', 'tepat', 'satu', 'minggu', 'setelah', 'peminjaman']\n"
     ]
    }
   ],
   "source": [
    "for line in range(len(tokenization)):\n",
    "    print(\"Kalimat\", line+1, \":\", tokenization[line])"
   ]
  },
  {
   "cell_type": "markdown",
   "metadata": {},
   "source": [
    "#### Stopword Removal"
   ]
  },
  {
   "cell_type": "code",
   "execution_count": 10,
   "metadata": {},
   "outputs": [],
   "source": [
    "stop_words = set(stopwords.words('indonesian'))\n",
    "stopword = tokenization\n",
    "\n",
    "for line in range(len(tokenization)):\n",
    "    for text in range(len(tokenization[line])):\n",
    "        if tokenization[line][text] not in stop_words:\n",
    "            stopword[line][text] = tokenization[line][text]\n",
    "        else:\n",
    "            stopword[line][text] = \"\"\n",
    "    while(\"\" in stopword[line]): \n",
    "        stopword[line].remove(\"\")"
   ]
  },
  {
   "cell_type": "code",
   "execution_count": 11,
   "metadata": {},
   "outputs": [
    {
     "name": "stdout",
     "output_type": "stream",
     "text": [
      "Kalimat 1 : ['mahasiswa', 'meminjam', 'buku']\n",
      "Kalimat 2 : ['buku', 'dipinjam', 'mahasiswa']\n",
      "Kalimat 3 : ['mahasiswa', 'buku', 'meminjam', 'perpustakaan']\n",
      "Kalimat 4 : ['buku', 'laris', 'dipinjam', 'mahasiswa', 'buku', 'dipinjam']\n",
      "Kalimat 5 : ['buku', 'memiliki', 'copy', 'copy', 'memiliki', 'nomor', 'buku']\n",
      "Kalimat 6 : ['peminjamannya', 'mahasiswa', 'disiplin', 'mengembalikan', 'buku', 'minggu', 'peminjaman']\n"
     ]
    }
   ],
   "source": [
    "for line in range(len(stopword)):\n",
    "    print(\"Kalimat\", line+1, \":\", stopword[line])"
   ]
  },
  {
   "cell_type": "code",
   "execution_count": 13,
   "metadata": {},
   "outputs": [],
   "source": [
    "# _stopword = StopWord()\n",
    "# stopword = tokenization\n",
    "\n",
    "# for line in range(len(tokenization)):\n",
    "#     for text in range(len(tokenization[line])):\n",
    "#         stopword[line][text] = _stopword.remove_stopword(tokenization[line][text])\n",
    "\n",
    "# for line in range(len(tokenization)):\n",
    "#     while(\"\" in stopword[line]): \n",
    "#         stopword[line].remove(\"\")"
   ]
  },
  {
   "cell_type": "code",
   "execution_count": 16,
   "metadata": {},
   "outputs": [],
   "source": [
    "# for line in range(len(stopword)):\n",
    "#     print(\"Kalimat\", line+1, \":\", stopword[line])"
   ]
  },
  {
   "cell_type": "code",
   "execution_count": 27,
   "metadata": {},
   "outputs": [],
   "source": [
    "postag = []\n",
    "crft = CRFTagger()\n",
    "crft.set_model_file('all_indo_man_tag_corpus_model.crf.tagger')\n",
    "for word in stopword:\n",
    "    hasil = ct.tag_sents([word])\n",
    "    for tag in hasil:\n",
    "        postag.append(tag)"
   ]
  },
  {
   "cell_type": "code",
   "execution_count": 28,
   "metadata": {},
   "outputs": [
    {
     "name": "stdout",
     "output_type": "stream",
     "text": [
      "Kalimat 1 : [('mahasiswa', 'NN'), ('meminjam', 'VB'), ('buku', 'NN')]\n",
      "Kalimat 2 : [('buku', 'NN'), ('dipinjam', 'VB'), ('mahasiswa', 'NN')]\n",
      "Kalimat 3 : [('mahasiswa', 'NN'), ('buku', 'NN'), ('meminjam', 'VB'), ('perpustakaan', 'NN')]\n",
      "Kalimat 4 : [('buku', 'NN'), ('laris', 'NN'), ('dipinjam', 'VB'), ('mahasiswa', 'NN'), ('buku', 'NN'), ('dipinjam', 'JJ')]\n",
      "Kalimat 5 : [('buku', 'NN'), ('memiliki', 'VB'), ('copy', 'FW'), ('copy', 'FW'), ('memiliki', 'VB'), ('nomor', 'NN'), ('buku', 'NN')]\n",
      "Kalimat 6 : [('peminjamannya', 'RB'), ('mahasiswa', 'NN'), ('disiplin', 'NN'), ('mengembalikan', 'VB'), ('buku', 'NN'), ('minggu', 'NN'), ('peminjaman', 'NN')]\n"
     ]
    }
   ],
   "source": [
    "for line in range(len(postag)):\n",
    "    print(\"Kalimat\", line+1, \":\", postag[line])"
   ]
  },
  {
   "cell_type": "code",
   "execution_count": 29,
   "metadata": {},
   "outputs": [],
   "source": [
    "def manualisasi(file):\n",
    "    result = []\n",
    "    f = open(file, \"r\", encoding=\"ANSI\")\n",
    "    lines = f.read().split(\"\\n\\n\")\n",
    "    f.close()\n",
    "    for line in lines:\n",
    "        kalimat = line.split(\"\\n\")\n",
    "        sen_tag = []\n",
    "        for kata in kalimat:\n",
    "            word_tag = kata.split(\"\\t\")\n",
    "            word = word_tag[0]\n",
    "            tag = word_tag[1]\n",
    "            if word == \"ï»¿Sebuah\":\n",
    "                word = \"Sebuah\"\n",
    "            sen_tag.append((word, tag))\n",
    "        result.append(sen_tag)\n",
    "    return result"
   ]
  },
  {
   "cell_type": "code",
   "execution_count": 33,
   "metadata": {},
   "outputs": [],
   "source": [
    "manual = manualisasi(\"manual.txt\")"
   ]
  },
  {
   "cell_type": "code",
   "execution_count": 37,
   "metadata": {},
   "outputs": [],
   "source": [
    "def accuracy(data_postag,data_manual):\n",
    "    hitung = 0\n",
    "    benar = 0\n",
    "    total = 0\n",
    "    salah = 0\n",
    "    manual = []\n",
    "    for i in data_manual:\n",
    "        for j in i:\n",
    "            total += 1\n",
    "            manual.append(j)\n",
    "    for i in data_postag:\n",
    "        for j in i:\n",
    "            if j in manual:\n",
    "                benar += 1\n",
    "                break\n",
    "            else:\n",
    "                salah += 1\n",
    "    hitung = ((total-salah)/total)*100 \n",
    "    return hitung"
   ]
  },
  {
   "cell_type": "code",
   "execution_count": 38,
   "metadata": {},
   "outputs": [],
   "source": [
    "akurasi = accuracy(postag,manual)"
   ]
  },
  {
   "cell_type": "code",
   "execution_count": 39,
   "metadata": {},
   "outputs": [
    {
     "name": "stdout",
     "output_type": "stream",
     "text": [
      "Akurasi dari CRF-Tagger = 98.73417721518987%\n"
     ]
    }
   ],
   "source": [
    "print('Akurasi dari CRF-Tagger = '+ str(akurasi) +'%')"
   ]
  },
  {
   "cell_type": "code",
   "execution_count": null,
   "metadata": {},
   "outputs": [],
   "source": []
  }
 ],
 "metadata": {
  "kernelspec": {
   "display_name": "Python 3",
   "language": "python",
   "name": "python3"
  },
  "language_info": {
   "codemirror_mode": {
    "name": "ipython",
    "version": 3
   },
   "file_extension": ".py",
   "mimetype": "text/x-python",
   "name": "python",
   "nbconvert_exporter": "python",
   "pygments_lexer": "ipython3",
   "version": "3.8.3"
  }
 },
 "nbformat": 4,
 "nbformat_minor": 4
}
